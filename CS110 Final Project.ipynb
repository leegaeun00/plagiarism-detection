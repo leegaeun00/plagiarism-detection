{
 "cells": [
  {
   "cell_type": "markdown",
   "metadata": {},
   "source": [
    "# 1. Plagiarism detection using Rolling Hashing"
   ]
  },
  {
   "cell_type": "markdown",
   "metadata": {},
   "source": [
    "Hash table will have 199 slots with indices 0 to 198 and mod value q of 199 will be used, because 199 is a relatively large prime number that would help avoid collisions. The hash table will contain substrings of the first string x and would be used to compare with the hash values of the second string y, to find common substrings between x and y. Only if the two substring's hash values match, then they are compared using their actual string values. This leads time complexity spent on computing and storing values to drastically decrease to Theta(n) where n is the length of the two strings (assuming they have the same length). If we compare the substring's acutal string value right away without using hash table and comparing hash values, then such naive solution would give a Theta(n^2) complexity because of nested loops each iterating n times."
   ]
  },
  {
   "cell_type": "code",
   "execution_count": 1,
   "metadata": {},
   "outputs": [],
   "source": [
    "def hash(word):\n",
    "    \"\"\"\n",
    "    Returns hash value of string\n",
    "    Input:\n",
    "    - word: string\n",
    "    Output:\n",
    "    - hash value in range 0 and 198\n",
    "    \"\"\"\n",
    "    # make all characters lower case\n",
    "    word=word.lower()\n",
    "    # base\n",
    "    base = 7\n",
    "    # exponent for the base\n",
    "    exp = len(word) - 1\n",
    "    # n in hash function h(n)=n mod q, when q=199\n",
    "    n = 0\n",
    "    \n",
    "    for char in word: \n",
    "        # add unicode value of character times appropriate base\n",
    "        n += ord(char)*(base**exp)\n",
    "        #decrease exponent by 1\n",
    "        exp -= 1\n",
    "    # return hash value h(n)=n mod 199\n",
    "    return n%199\n",
    "    \n",
    "\n",
    "def rh_get_match(x, y, k):\n",
    "    \"\"\"\n",
    "    Finds all common length-k substrings of x and y\n",
    "    using rolling hashing on both strings.\n",
    "    Input:\n",
    "    - x, y: strings\n",
    "    - k: int, length of substring\n",
    "    Output:\n",
    "    - A list of tuples (i, j) where x[i:i+k] = y[j:j+k]\n",
    "    \"\"\"\n",
    "    \n",
    "    # initialize hash table\n",
    "    hashtable = [[] for i in range(199)] \n",
    "    \n",
    "    # preprocess string x and y (convert all characters to lower case, remove special characters)\n",
    "    x = x.lower().replace(\" \",\"\").replace(\",\",\"\").replace(\".\",\"\").replace(\"?\",\"\").replace(\"-\",\"\").replace(\"'\",\"\") \n",
    "    y = y.lower().replace(\" \",\"\").replace(\",\",\"\").replace(\".\",\"\").replace(\"?\",\"\").replace(\"-\",\"\").replace(\"'\",\"\")\n",
    "    \n",
    "    # list containing the indices of the common substrings\n",
    "    common = [] \n",
    "    \n",
    "    # iterate through string x and store in hash table\n",
    "    for i in range(len(x)-k+1):\n",
    "        # initialize hash value\n",
    "        if(i == 0):\n",
    "            h1 = hash(x[i:i+k])\n",
    "        else: \n",
    "            # compute hash value of next substring by rolling hashing\n",
    "            h1 = (h1*7 + ord(x[i+k-1]))%199\n",
    "            h1 = (h1 - ord(x[i-1])*((7**k)%199))%199\n",
    "        # append substring and index to hash table\n",
    "        hashtable[h1].append((x[i:i+k],i))\n",
    "    \n",
    "    # iterate through string y\n",
    "    for j in range(len(y)-k+1):\n",
    "        if(j == 0): \n",
    "            h2 = hash(y[j:j+k])\n",
    "        else:\n",
    "            h2 = (h2*7 + ord(y[j+k-1]))%199\n",
    "            h2 = (h2 - ord(y[j-1])*((7**k)%199))%199\n",
    "        # check whether substring of y exists in hash table of same hash value\n",
    "        for i in hashtable[h2]:\n",
    "            # if substring exists,\n",
    "            if(y[j:j+k] == i[0]):\n",
    "                # append substring and index to list\n",
    "                common.append((i[1],j))\n",
    "    # return list that contains common substrings and their indices\n",
    "    return common"
   ]
  },
  {
   "cell_type": "code",
   "execution_count": 2,
   "metadata": {},
   "outputs": [],
   "source": [
    "# Verify whether long inputs work\n",
    "assert rh_get_match(\"Peter Piper picked a peck of pickled peppers. A peck of pickled peppers Peter Piper picked.\",\"If Peter Piper picked a peck of pickled peppers. Where’s the peck of pickled peppers Peter Piper picked?\",35)==[(0, 2), (1, 3), (2, 4), (38, 49), (39, 50)]\n",
    "# Verify whether single character inputs work\n",
    "assert rh_get_match(\"Yo I am awesome\",\"a\",1)==[(3, 0), (5, 0)]\n",
    "# Verify whether inputs with special characters work\n",
    "assert rh_get_match(\"I'm light-hearted\",\"imlthe\",3) == [(0, 0), (6, 3)] \n",
    "# Verify whether repeating same substring inputs work\n",
    "assert rh_get_match(\"awe awe awesome\",\"awe\",3)==[(0, 0), (3, 0), (6, 0)]\n",
    "# Verifty whether substrings with multiple spaces and capitalized letters work\n",
    "assert rh_get_match(\"I LOVE to   be loVely\",\"love\",3)==[(1, 0), (9, 0), (2, 1), (10, 1)]"
   ]
  },
  {
   "cell_type": "markdown",
   "metadata": {},
   "source": [
    "# 2. Plagiarism detection using Regular Hashing"
   ]
  },
  {
   "cell_type": "code",
   "execution_count": 3,
   "metadata": {},
   "outputs": [],
   "source": [
    "def hash2(word):\n",
    "    \"\"\"\n",
    "    Returns] hash value of string (without using modulo)\n",
    "    Input:\n",
    "    - word: string\n",
    "    Output:\n",
    "    - hash value in range 0 to 198\n",
    "    \"\"\"\n",
    "    #make all characters lower case\n",
    "    word=word.lower()\n",
    "    # maximum hash value\n",
    "    max = 0\n",
    "    # minimum hash value\n",
    "    min = 0\n",
    "    for i in range(len(word)): \n",
    "        # compute maximum hash value when all characters are letter z\n",
    "        max = max*128 + ord('z')\n",
    "        # compute minimum hash value when all characters are letter a\n",
    "        min = min*128 + ord('a')\n",
    "        \n",
    "    # compute divider so that hash value is between 0 and 199\n",
    "    divider = (max - min) // 199 + 1 \n",
    "    \n",
    "    # initialize hash value\n",
    "    h = 0\n",
    "    for chr in word:\n",
    "        # add unicode values of each character times appropriate base\n",
    "        h = h * 128 + ord(chr) \n",
    "    # divide hash value by the divider to make it between 0 and 199\n",
    "    return (h-min)//divider \n",
    "\n",
    "def regular_get_match(x, y, k):\n",
    "    \"\"\"\n",
    "    Finds all common length-k substrings of x and y\n",
    "    NOT using rolling hashing on both strings.\n",
    "    Input:\n",
    "    - x, y: strings\n",
    "    - k: int, length of substring\n",
    "    Output:\n",
    "    - A list of tuples (i, j)\n",
    "    where x[i:i+k] = y[j:j+k]\n",
    "    \"\"\"\n",
    "    #initialize hash table\n",
    "    hashtable = [[] for i in range(199)]\n",
    "    \n",
    "    # preprocess string x and y (convert all characters to lower case, remove special characters)\n",
    "    x = x.lower().replace(\" \",\"\").replace(\",\",\"\").replace(\".\",\"\").replace(\"?\",\"\").replace(\"-\",\"\").replace(\"'\",\"\") \n",
    "    y = y.lower().replace(\" \",\"\").replace(\",\",\"\").replace(\".\",\"\").replace(\"?\",\"\").replace(\"-\",\"\").replace(\"'\",\"\")\n",
    "                 \n",
    "    # list containing the indices of the common substrings\n",
    "    common = []\n",
    "    \n",
    "    # itertate through string x and store in hash table\n",
    "    for i in range(len(x)-k+1):\n",
    "        p = hash2(x[i:i+k])\n",
    "        hashtable[p].append((x[i:i+k],i))\n",
    "    \n",
    "    # iterate through string y\n",
    "    for j in range(len(y)-k+1): \n",
    "        t = hash2(y[j:j+k])\n",
    "        # check whether substring of y exists in hash table of same hash value\n",
    "        for i in hashtable[t]:\n",
    "            # if substring exists,\n",
    "            if(y[j:j+k] == i[0]): \n",
    "                # append substring and index to list\n",
    "                common.append((i[1],j))\n",
    "    # return list that contains common substrings and their indices\n",
    "    return common"
   ]
  },
  {
   "cell_type": "code",
   "execution_count": 4,
   "metadata": {},
   "outputs": [],
   "source": [
    "# Verify whether single character inputs work\n",
    "assert rh_get_match(\"Yo I am awesome\",\"a\",1)==[(3, 0), (5, 0)]\n",
    "# Verify whether inputs with special characters work\n",
    "assert rh_get_match(\"I'm light-hearted\",\"imlthe\",3) == [(0, 0), (6, 3)] \n",
    "# Verify whether repeating same substring inputs work\n",
    "assert rh_get_match(\"awe awe awesome\",\"awe\",3)==[(0, 0), (3, 0), (6, 0)]\n",
    "# Verifty whether substrings with multiple spaces and capitalized letters work\n",
    "assert rh_get_match(\"I LOVE to   be loVely\",\"love\",3)==[(1, 0), (9, 0), (2, 1), (10, 1)]"
   ]
  },
  {
   "cell_type": "markdown",
   "metadata": {},
   "source": [
    "The following histogram plot empirically proves that the regular hashing function gives uniform distribution of hash values. The plot represents the frequency of hash values of randomly made strings using regular hashing and we can see that each bar of hash value ranges have similiar frequency."
   ]
  },
  {
   "cell_type": "code",
   "execution_count": 8,
   "metadata": {},
   "outputs": [
    {
     "data": {
      "image/png": "[encoded data removed]",
      "text/plain": [
       "<Figure size 432x288 with 1 Axes>"
      ]
     },
     "metadata": {
      "needs_background": "light"
     },
     "output_type": "display_data"
    }
   ],
   "source": [
    "import random\n",
    "import string \n",
    "import matplotlib.pyplot as plt\n",
    "\n",
    "random.seed(100)\n",
    "\n",
    "# list of words\n",
    "words = []\n",
    "\n",
    "# randomly make words of multiple lengths\n",
    "for length in range(5,2005):\n",
    "    word = \"\"\n",
    "    for _ in range(length):\n",
    "        word += random.choice(string.ascii_letters)\n",
    "    # store randomly made words in list\n",
    "    words.append(word)\n",
    "\n",
    "# list of hash values of random words\n",
    "hashes = []\n",
    "for i in range(0,2000):\n",
    "    hashes.append(hash2(words[i]))\n",
    "plt.hist(hashes)\n",
    "plt.ylabel(\"count\")\n",
    "plt.xlabel(\"hash values\")\n",
    "plt.title(\"frequency distribution of hash values \\n of random strings using regular hashing\")\n",
    "plt.show()"
   ]
  },
  {
   "cell_type": "markdown",
   "metadata": {},
   "source": [
    "### Detecting extent of plagiarism"
   ]
  },
  {
   "cell_type": "markdown",
   "metadata": {},
   "source": [
    "Finding the appropriate value of K to pass onto the functions will be important. If K is too small, then we will have to store unnecessarily large amount of substrings into the hash table. For example, if K is 1 then every letter would have to be stored in the hash table and every common letter would count as plagiarism, going against the purpose of our detector. If K is too large, then we may not be able to detect plagiarism done in small phrases.\n",
    "\n",
    "According to online resources, average length of one sentence is 15 to 20 words(https://medium.com/@theacropolitan/sentence-length-has-declined-75-in-the-past-500-years-2e40f80f589f#:~:text=On%20average%2C%20sentences%20today%20range,per%20sentence%20in%20some%20years.) and the average length of one word is 4.7 letters (http://norvig.com/mayzner.html). This means that the average length of a sentence in letters would be (15+20)/2 * 4.7 = 82.25.\n",
    "\n",
    "So, I would first pass K as the average length of sentences 82, to approximately check whether sentences were entirely copy and pasted. Plagiarism percentage would be (number of common substrings)/(total letter length of input - 82) and if this percentage is larger than maybe 10%, then it is considered to be plagiarized because copy and pasting entire sentences is straightforward plagiarism. If the first test does not show plagiarism, I would go in more detail by passing K as the average length of words 5. Plagiarism percentage would be (number of common substrings)/(total letter length of input - 5) and if this percentage is larger than maybe 80%, then it is considerted to be plagiarized because most words are in common."
   ]
  },
  {
   "cell_type": "markdown",
   "metadata": {},
   "source": [
    "### Drawbacks"
   ]
  },
  {
   "cell_type": "markdown",
   "metadata": {},
   "source": [
    "One of the function's pitfalls is that when spaces and special characters are removed, words and sentences can not be differentiated. For example if x=\"large help\" and y=\"Pimple is large. Help is needed\", commong substring \"large help\" would be counted as common substrings although they are separated by \".\" and thus may over-detect plagiarism. Another pitfall is that strings are potentially counted multiple times and thus may over-detect plagiarism. For example if x=\"I can swim\" and y=\"I can't swim because I can't float\", common substring \"can't\" will be counted twice."
   ]
  },
  {
   "cell_type": "markdown",
   "metadata": {},
   "source": [
    "### Complexity Analysis"
   ]
  },
  {
   "cell_type": "markdown",
   "metadata": {},
   "source": [
    "Rolling Hashing scales linearly and has time complexity of O(n) because the for loop runs for each letter in the string input and rest of the code causes constant time complexity. More specifically, calling hash functions for two strings would be each O(n) and comparing them would be O(n), leading their total to still scale linearly as O(n).\n",
    "Regular Hashing scales linearly but has time complexity of O(n*k) because the for loop runs for each letter in the string input and length of each word would be k when function is called and rest of the code causes constant time complexity. Different from rolling hashing though, the hash function is called in every for loop iteration causing O(n*k)."
   ]
  },
  {
   "cell_type": "code",
   "execution_count": 6,
   "metadata": {},
   "outputs": [],
   "source": [
    "import time\n",
    "import random\n",
    "import string\n",
    "import matplotlib.pyplot as plt\n",
    "random.seed(100)\n",
    "\n",
    "# two lists of words to compare\n",
    "words1 = []\n",
    "words2 = []\n",
    "\n",
    "# randomly make words of multiple lengths\n",
    "for length in range(5,2006):\n",
    "    word1 = \"\"\n",
    "    word2 = \"\"\n",
    "    for _ in range(length): \n",
    "        word1 += random.choice(string.ascii_letters)\n",
    "        word2 += random.choice(string.ascii_letters)\n",
    "    # store randomly made words in the lists\n",
    "    words1.append(word1)\n",
    "    words2.append(word2)\n",
    "    \n",
    "# list to store times first rolling hash function and second regular hash function takes\n",
    "time1 = []\n",
    "time2 = []\n",
    "\n",
    "# iterate through the two word lists\n",
    "for i in range(1,2001):\n",
    "    start = time.time()\n",
    "    rh_get_match(words1[i],words2[i],i) \n",
    "    end = time.time() \n",
    "    # store regular hash function time duration\n",
    "    time1.append(end-start)\n",
    "    start = time.time()\n",
    "    regular_get_match(words1[i],words2[i],i) \n",
    "    end = time.time()\n",
    "    # store rolling hash function time duration\n",
    "    time2.append(end-start)"
   ]
  },
  {
   "cell_type": "code",
   "execution_count": 7,
   "metadata": {},
   "outputs": [
    {
     "data": {
      "image/png": "[encoded data removed]",
      "text/plain": [
       "<Figure size 432x288 with 1 Axes>"
      ]
     },
     "metadata": {
      "needs_background": "light"
     },
     "output_type": "display_data"
    }
   ],
   "source": [
    "# x coordinates that represent length of words\n",
    "xcoor = [i for i in range(1,2001)]\n",
    "\n",
    "plt.plot(xcoor,time1, label = \"rolling hashing\")\n",
    "plt.plot(xcoor,time2, label = \"regular hashing\")\n",
    "plt.xlabel(\"length of words\")\n",
    "plt.ylabel(\"duration\")\n",
    "plt.legend()\n",
    "plt.title(\"rolling hashing and regular hashing run time\")\n",
    "plt.show()"
   ]
  },
  {
   "cell_type": "markdown",
   "metadata": {},
   "source": [
    "### HC and LO Applications"
   ]
  },
  {
   "cell_type": "markdown",
   "metadata": {},
   "source": [
    "#algorithm: use two rolling and regular hashing algorithms to perform the same task of plagiarism detection\n",
    "#context: explains practical use and pitfalls of the algorithm by considering real life context of plagiarism detection\n",
    "#evidencebased: uses appropriate evidence to back up claims such as histograms to prove uniform distribution and plots runtime difference\n",
    "#complexityanalysis:rolling and regular hash function complexity are compared empirically and asymptotically.\n",
    "#computationalcritique: algorithm's real life use and drawbacks are explained\n",
    "#pythonprogramming: appropriate python libraries and data structures were used\n",
    "#codereadability: document strings and comments are well written"
   ]
  },
  {
   "cell_type": "code",
   "execution_count": null,
   "metadata": {},
   "outputs": [],
   "source": []
  }
 ],
 "metadata": {
  "kernelspec": {
   "display_name": "Python 3",
   "language": "python",
   "name": "python3"
  },
  "language_info": {
   "codemirror_mode": {
    "name": "ipython",
    "version": 3
   },
   "file_extension": ".py",
   "mimetype": "text/x-python",
   "name": "python",
   "nbconvert_exporter": "python",
   "pygments_lexer": "ipython3",
   "version": "3.7.3"
  }
 },
 "nbformat": 4,
 "nbformat_minor": 4
}
